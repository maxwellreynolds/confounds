{
 "nbformat": 4,
 "nbformat_minor": 0,
 "metadata": {
  "colab": {
   "name": "deconfounding_cca.ipynb",
   "provenance": [],
   "collapsed_sections": []
  },
  "kernelspec": {
   "name": "python3",
   "display_name": "Python 3"
  },
  "language_info": {
   "name": "python"
  }
 },
 "cells": [
  {
   "cell_type": "code",
   "metadata": {
    "colab": {
     "base_uri": "https://localhost:8080/"
    },
    "id": "8JqmQ0G2B9FH",
    "outputId": "9c08a7d0-4a40-45b0-8346-2b4d791c5a12"
   },
   "source": [
    "!pip install confounds\n",
    "!pip install cca-zoo --upgrade"
   ],
   "execution_count": 11,
   "outputs": [
    {
     "name": "stdout",
     "output_type": "stream",
     "text": [
      "Requirement already satisfied: confounds in c:\\users\\chapm\\pycharmprojects\\confounds (0.1.1+18.gf856d9d.dirty)\n",
      "Requirement already satisfied: numpy in c:\\users\\chapm\\pycharmprojects\\confounds\\venv\\lib\\site-packages (from confounds) (1.20.3)\n",
      "Requirement already satisfied: scikit-learn in c:\\users\\chapm\\pycharmprojects\\confounds\\venv\\lib\\site-packages (from confounds) (0.24.2)\n",
      "Requirement already satisfied: joblib>=0.11 in c:\\users\\chapm\\pycharmprojects\\confounds\\venv\\lib\\site-packages (from scikit-learn->confounds) (1.0.1)\n",
      "Requirement already satisfied: threadpoolctl>=2.0.0 in c:\\users\\chapm\\pycharmprojects\\confounds\\venv\\lib\\site-packages (from scikit-learn->confounds) (2.1.0)\n",
      "Requirement already satisfied: scipy>=0.19.1 in c:\\users\\chapm\\pycharmprojects\\confounds\\venv\\lib\\site-packages (from scikit-learn->confounds) (1.6.3)\n"
     ]
    },
    {
     "name": "stderr",
     "output_type": "stream",
     "text": [
      "WARNING: You are using pip version 21.1.2; however, version 21.3.1 is available.\n",
      "You should consider upgrading via the 'c:\\users\\chapm\\pycharmprojects\\confounds\\venv\\scripts\\python.exe -m pip install --upgrade pip' command.\n"
     ]
    },
    {
     "name": "stdout",
     "output_type": "stream",
     "text": [
      "Requirement already satisfied: cca-zoo in c:\\users\\chapm\\pycharmprojects\\confounds\\venv\\lib\\site-packages (1.7.2)\n",
      "Collecting cca-zoo\n",
      "  Using cached cca_zoo-1.10.6-py3-none-any.whl (80 kB)\n",
      "Requirement already satisfied: numpy in c:\\users\\chapm\\pycharmprojects\\confounds\\venv\\lib\\site-packages (from cca-zoo) (1.20.3)\n",
      "Requirement already satisfied: pandas in c:\\users\\chapm\\pycharmprojects\\confounds\\venv\\lib\\site-packages (from cca-zoo) (1.2.4)\n",
      "Requirement already satisfied: joblib in c:\\users\\chapm\\pycharmprojects\\confounds\\venv\\lib\\site-packages (from cca-zoo) (1.0.1)\n",
      "Requirement already satisfied: matplotlib in c:\\users\\chapm\\pycharmprojects\\confounds\\venv\\lib\\site-packages (from cca-zoo) (3.4.2)\n",
      "Collecting scikit-learn>=1.0\n",
      "  Using cached scikit_learn-1.0.1-cp39-cp39-win_amd64.whl (7.2 MB)\n",
      "Collecting scipy>=1.7\n",
      "  Downloading scipy-1.7.3-cp39-cp39-win_amd64.whl (34.3 MB)\n",
      "Collecting mvlearn\n",
      "  Using cached mvlearn-0.4.1-py3-none-any.whl (2.1 MB)\n",
      "Requirement already satisfied: tensorly in c:\\users\\chapm\\pycharmprojects\\confounds\\venv\\lib\\site-packages (from cca-zoo) (0.6.0)\n",
      "Requirement already satisfied: seaborn in c:\\users\\chapm\\pycharmprojects\\confounds\\venv\\lib\\site-packages (from cca-zoo) (0.11.1)\n",
      "Requirement already satisfied: threadpoolctl>=2.0.0 in c:\\users\\chapm\\pycharmprojects\\confounds\\venv\\lib\\site-packages (from scikit-learn>=1.0->cca-zoo) (2.1.0)\n",
      "Requirement already satisfied: pillow>=6.2.0 in c:\\users\\chapm\\pycharmprojects\\confounds\\venv\\lib\\site-packages (from matplotlib->cca-zoo) (8.2.0)\n",
      "Requirement already satisfied: pyparsing>=2.2.1 in c:\\users\\chapm\\pycharmprojects\\confounds\\venv\\lib\\site-packages (from matplotlib->cca-zoo) (2.4.7)\n",
      "Requirement already satisfied: python-dateutil>=2.7 in c:\\users\\chapm\\pycharmprojects\\confounds\\venv\\lib\\site-packages (from matplotlib->cca-zoo) (2.8.1)\n",
      "Requirement already satisfied: kiwisolver>=1.0.1 in c:\\users\\chapm\\pycharmprojects\\confounds\\venv\\lib\\site-packages (from matplotlib->cca-zoo) (1.3.1)\n",
      "Requirement already satisfied: cycler>=0.10 in c:\\users\\chapm\\pycharmprojects\\confounds\\venv\\lib\\site-packages (from matplotlib->cca-zoo) (0.10.0)\n",
      "Requirement already satisfied: six in c:\\users\\chapm\\pycharmprojects\\confounds\\venv\\lib\\site-packages (from cycler>=0.10->matplotlib->cca-zoo) (1.16.0)\n",
      "Requirement already satisfied: pytz>=2017.3 in c:\\users\\chapm\\pycharmprojects\\confounds\\venv\\lib\\site-packages (from pandas->cca-zoo) (2021.1)\n",
      "Requirement already satisfied: nose in c:\\users\\chapm\\pycharmprojects\\confounds\\venv\\lib\\site-packages (from tensorly->cca-zoo) (1.3.7)\n",
      "Installing collected packages: scipy, scikit-learn, mvlearn, cca-zoo\n",
      "  Attempting uninstall: scipy\n",
      "    Found existing installation: scipy 1.6.3\n",
      "    Uninstalling scipy-1.6.3:\n",
      "      Successfully uninstalled scipy-1.6.3\n"
     ]
    },
    {
     "name": "stderr",
     "output_type": "stream",
     "text": [
      "ERROR: Could not install packages due to an OSError: [WinError 5] Access is denied: 'C:\\\\Users\\\\chapm\\\\PycharmProjects\\\\confounds\\\\venv\\\\Lib\\\\site-packages\\\\~cipy\\\\.libs\\\\libansari.R6EA3HQP5KZ6TAXU4Y4ZVTRPT7UVA53Z.gfortran-win_amd64.dll'\n",
      "Check the permissions.\n",
      "\n",
      "WARNING: You are using pip version 21.1.2; however, version 21.3.1 is available.\n",
      "You should consider upgrading via the 'c:\\users\\chapm\\pycharmprojects\\confounds\\venv\\scripts\\python.exe -m pip install --upgrade pip' command.\n"
     ]
    }
   ]
  },
  {
   "cell_type": "markdown",
   "metadata": {
    "id": "qHd3CvnGAEZU"
   },
   "source": [
    "# Tutorial using confounds library with Canonical Correlation Analysis"
   ]
  },
  {
   "cell_type": "code",
   "metadata": {
    "id": "1F7GYUqx_-WT"
   },
   "source": [
    "#imports\n",
    "import matplotlib.pyplot as plt\n",
    "import numpy as np\n",
    "import pandas as pd\n",
    "import seaborn as sns\n",
    "from confounds import Residualize\n",
    "from cca_zoo.models import CCA"
   ],
   "execution_count": 12,
   "outputs": []
  },
  {
   "cell_type": "code",
   "metadata": {
    "id": "OWqpccpgAVGm"
   },
   "source": [
    "#parameters\n",
    "np.random.seed(42)\n",
    "#samples\n",
    "n = 1000\n",
    "#X features\n",
    "p = 10\n",
    "#Y features\n",
    "q = 10\n",
    "#Number of scanners\n",
    "s=2"
   ],
   "execution_count": 13,
   "outputs": []
  },
  {
   "cell_type": "markdown",
   "metadata": {
    "id": "7II8GogVAnoL"
   },
   "source": [
    "## Generate Simulated Data\n",
    "We use a latent variable model to generate 2 views of data. One latent variable represents a binary confound variable such as the scanner type in a neuroimaging study. The other latent variable represents some underlying relationship between the 2 views. Notice that X and Y are multivariate and CCA will look to identify multivariate associations."
   ]
  },
  {
   "cell_type": "code",
   "metadata": {
    "id": "UqOjtcsOAZOB"
   },
   "source": [
    "# Make a binary confounding variable such as scanner type/gender\n",
    "confound = np.random.randint(s, size=(n, 1))\n",
    "\n",
    "# Generate the underlying relationship of interest as a latent variable\n",
    "relationship_of_interest = np.random.normal(0, 1, size=(n, 1))\n",
    "\n",
    "# Random weights representing the effect of the confounding variable on the data\n",
    "weights_cx = np.random.normal(0, 1, size=(1, p))\n",
    "weights_cy = np.random.normal(0, 1, size=(1, q))\n",
    "\n",
    "# Random weights representing the relationship of interest in the data\n",
    "weights_rx = np.random.normal(0, 1, size=(1, p))\n",
    "weights_ry = np.random.normal(0, 1, size=(1, q))\n",
    "\n",
    "# Generate the 'observed' data views by projecting from the latent variables to the feature space using these weights\n",
    "X = np.dot(confound, weights_cx) + np.dot(relationship_of_interest, weights_rx) + np.random.normal(0, 1, size=(n, p))\n",
    "Y = np.dot(confound, weights_cy) + np.dot(relationship_of_interest, weights_cy) + np.random.normal(0, 1, size=(n, q))"
   ],
   "execution_count": 14,
   "outputs": []
  },
  {
   "cell_type": "markdown",
   "metadata": {
    "id": "UNa8Yko5BQgy"
   },
   "source": [
    "## CCA using the confounded data\n",
    "First we fit a CCA model to the original data. By plotting the learnt projections to the latent space, we see that the learnt association is dominated by the effect of the confounding variable (which could be for example scanner type)."
   ]
  },
  {
   "cell_type": "code",
   "metadata": {
    "colab": {
     "base_uri": "https://localhost:8080/",
     "height": 393
    },
    "id": "UtGfDBeXBiTq",
    "outputId": "5c8ecd2d-10a1-4b2f-bd56-fcacff48552c"
   },
   "source": [
    "cca = CCA().fit((X, Y))\n",
    "transformed_x, transformed_y = cca.transform((X,Y))\n",
    "\n",
    "data = pd.DataFrame(\n",
    "    {'Scanner Type': np.squeeze(confound).astype(str), 'view 1 projection': np.squeeze(transformed_x),\n",
    "     'view 2 projection': np.squeeze(transformed_y)})\n",
    "cca_pp = sns.pairplot(data, hue='Scanner Type')\n",
    "cca_pp.fig.suptitle('Confounded CCA')"
   ],
   "execution_count": 16,
   "outputs": [
    {
     "ename": "ValueError",
     "evalue": "number of views passed should match number of parameter clen(views)=1 and len(c)=2",
     "output_type": "error",
     "traceback": [
      "\u001B[1;31m---------------------------------------------------------------------------\u001B[0m",
      "\u001B[1;31mValueError\u001B[0m                                Traceback (most recent call last)",
      "\u001B[1;32m<ipython-input-16-4409efa4798b>\u001B[0m in \u001B[0;36m<module>\u001B[1;34m\u001B[0m\n\u001B[1;32m----> 1\u001B[1;33m \u001B[0mcca\u001B[0m \u001B[1;33m=\u001B[0m \u001B[0mCCA\u001B[0m\u001B[1;33m(\u001B[0m\u001B[1;33m)\u001B[0m\u001B[1;33m.\u001B[0m\u001B[0mfit\u001B[0m\u001B[1;33m(\u001B[0m\u001B[1;33m(\u001B[0m\u001B[0mX\u001B[0m\u001B[1;33m,\u001B[0m \u001B[0mY\u001B[0m\u001B[1;33m)\u001B[0m\u001B[1;33m)\u001B[0m\u001B[1;33m\u001B[0m\u001B[1;33m\u001B[0m\u001B[0m\n\u001B[0m\u001B[0;32m      2\u001B[0m \u001B[0mtransformed_x\u001B[0m\u001B[1;33m,\u001B[0m \u001B[0mtransformed_y\u001B[0m \u001B[1;33m=\u001B[0m \u001B[0mcca\u001B[0m\u001B[1;33m.\u001B[0m\u001B[0mtransform\u001B[0m\u001B[1;33m(\u001B[0m\u001B[1;33m(\u001B[0m\u001B[0mX\u001B[0m\u001B[1;33m,\u001B[0m\u001B[0mY\u001B[0m\u001B[1;33m)\u001B[0m\u001B[1;33m)\u001B[0m\u001B[1;33m\u001B[0m\u001B[1;33m\u001B[0m\u001B[0m\n\u001B[0;32m      3\u001B[0m \u001B[1;33m\u001B[0m\u001B[0m\n\u001B[0;32m      4\u001B[0m data = pd.DataFrame(\n\u001B[0;32m      5\u001B[0m     {'Scanner Type': np.squeeze(confound).astype(str), 'view 1 projection': np.squeeze(transformed_x),\n",
      "\u001B[1;32mc:\\users\\chapm\\pycharmprojects\\confounds\\venv\\lib\\site-packages\\cca_zoo\\models\\rcca.py\u001B[0m in \u001B[0;36mfit\u001B[1;34m(self, *views)\u001B[0m\n\u001B[0;32m     49\u001B[0m         \"\"\"\n\u001B[0;32m     50\u001B[0m         \u001B[0mself\u001B[0m\u001B[1;33m.\u001B[0m\u001B[0mn_views\u001B[0m \u001B[1;33m=\u001B[0m \u001B[0mlen\u001B[0m\u001B[1;33m(\u001B[0m\u001B[0mviews\u001B[0m\u001B[1;33m)\u001B[0m\u001B[1;33m\u001B[0m\u001B[1;33m\u001B[0m\u001B[0m\n\u001B[1;32m---> 51\u001B[1;33m         \u001B[0mself\u001B[0m\u001B[1;33m.\u001B[0m\u001B[0mcheck_params\u001B[0m\u001B[1;33m(\u001B[0m\u001B[1;33m)\u001B[0m\u001B[1;33m\u001B[0m\u001B[1;33m\u001B[0m\u001B[0m\n\u001B[0m\u001B[0;32m     52\u001B[0m         \u001B[0mtrain_views\u001B[0m \u001B[1;33m=\u001B[0m \u001B[0mself\u001B[0m\u001B[1;33m.\u001B[0m\u001B[0mcentre_scale\u001B[0m\u001B[1;33m(\u001B[0m\u001B[1;33m*\u001B[0m\u001B[0mviews\u001B[0m\u001B[1;33m)\u001B[0m\u001B[1;33m\u001B[0m\u001B[1;33m\u001B[0m\u001B[0m\n\u001B[0;32m     53\u001B[0m         \u001B[0mU_list\u001B[0m\u001B[1;33m,\u001B[0m \u001B[0mS_list\u001B[0m\u001B[1;33m,\u001B[0m \u001B[0mVt_list\u001B[0m \u001B[1;33m=\u001B[0m \u001B[0m_pca_data\u001B[0m\u001B[1;33m(\u001B[0m\u001B[1;33m*\u001B[0m\u001B[0mtrain_views\u001B[0m\u001B[1;33m)\u001B[0m\u001B[1;33m\u001B[0m\u001B[1;33m\u001B[0m\u001B[0m\n",
      "\u001B[1;32mc:\\users\\chapm\\pycharmprojects\\confounds\\venv\\lib\\site-packages\\cca_zoo\\models\\rcca.py\u001B[0m in \u001B[0;36mcheck_params\u001B[1;34m(self)\u001B[0m\n\u001B[0;32m     40\u001B[0m \u001B[1;33m\u001B[0m\u001B[0m\n\u001B[0;32m     41\u001B[0m     \u001B[1;32mdef\u001B[0m \u001B[0mcheck_params\u001B[0m\u001B[1;33m(\u001B[0m\u001B[0mself\u001B[0m\u001B[1;33m)\u001B[0m\u001B[1;33m:\u001B[0m\u001B[1;33m\u001B[0m\u001B[1;33m\u001B[0m\u001B[0m\n\u001B[1;32m---> 42\u001B[1;33m         \u001B[0mself\u001B[0m\u001B[1;33m.\u001B[0m\u001B[0mc\u001B[0m \u001B[1;33m=\u001B[0m \u001B[0m_process_parameter\u001B[0m\u001B[1;33m(\u001B[0m\u001B[1;34m'c'\u001B[0m\u001B[1;33m,\u001B[0m \u001B[0mself\u001B[0m\u001B[1;33m.\u001B[0m\u001B[0mc\u001B[0m\u001B[1;33m,\u001B[0m \u001B[1;36m0\u001B[0m\u001B[1;33m,\u001B[0m \u001B[0mself\u001B[0m\u001B[1;33m.\u001B[0m\u001B[0mn_views\u001B[0m\u001B[1;33m)\u001B[0m\u001B[1;33m\u001B[0m\u001B[1;33m\u001B[0m\u001B[0m\n\u001B[0m\u001B[0;32m     43\u001B[0m \u001B[1;33m\u001B[0m\u001B[0m\n\u001B[0;32m     44\u001B[0m     \u001B[1;32mdef\u001B[0m \u001B[0mfit\u001B[0m\u001B[1;33m(\u001B[0m\u001B[0mself\u001B[0m\u001B[1;33m,\u001B[0m \u001B[1;33m*\u001B[0m\u001B[0mviews\u001B[0m\u001B[1;33m:\u001B[0m \u001B[0mnp\u001B[0m\u001B[1;33m.\u001B[0m\u001B[0mndarray\u001B[0m\u001B[1;33m)\u001B[0m\u001B[1;33m:\u001B[0m\u001B[1;33m\u001B[0m\u001B[1;33m\u001B[0m\u001B[0m\n",
      "\u001B[1;32mc:\\users\\chapm\\pycharmprojects\\confounds\\venv\\lib\\site-packages\\cca_zoo\\utils\\check_values.py\u001B[0m in \u001B[0;36m_process_parameter\u001B[1;34m(parameter_name, parameter, default, n_views)\u001B[0m\n\u001B[0;32m      7\u001B[0m     \u001B[1;32melif\u001B[0m \u001B[1;32mnot\u001B[0m \u001B[0misinstance\u001B[0m\u001B[1;33m(\u001B[0m\u001B[0mparameter\u001B[0m\u001B[1;33m,\u001B[0m \u001B[1;33m(\u001B[0m\u001B[0mlist\u001B[0m\u001B[1;33m,\u001B[0m \u001B[0mtuple\u001B[0m\u001B[1;33m)\u001B[0m\u001B[1;33m)\u001B[0m\u001B[1;33m:\u001B[0m\u001B[1;33m\u001B[0m\u001B[1;33m\u001B[0m\u001B[0m\n\u001B[0;32m      8\u001B[0m         \u001B[0mparameter\u001B[0m \u001B[1;33m=\u001B[0m \u001B[1;33m[\u001B[0m\u001B[0mparameter\u001B[0m\u001B[1;33m]\u001B[0m \u001B[1;33m*\u001B[0m \u001B[0mn_views\u001B[0m\u001B[1;33m\u001B[0m\u001B[1;33m\u001B[0m\u001B[0m\n\u001B[1;32m----> 9\u001B[1;33m     \u001B[0m_check_parameter_number\u001B[0m\u001B[1;33m(\u001B[0m\u001B[0mparameter_name\u001B[0m\u001B[1;33m,\u001B[0m \u001B[0mparameter\u001B[0m\u001B[1;33m,\u001B[0m \u001B[0mn_views\u001B[0m\u001B[1;33m)\u001B[0m\u001B[1;33m\u001B[0m\u001B[1;33m\u001B[0m\u001B[0m\n\u001B[0m\u001B[0;32m     10\u001B[0m     \u001B[1;32mreturn\u001B[0m \u001B[0mparameter\u001B[0m\u001B[1;33m\u001B[0m\u001B[1;33m\u001B[0m\u001B[0m\n\u001B[0;32m     11\u001B[0m \u001B[1;33m\u001B[0m\u001B[0m\n",
      "\u001B[1;32mc:\\users\\chapm\\pycharmprojects\\confounds\\venv\\lib\\site-packages\\cca_zoo\\utils\\check_values.py\u001B[0m in \u001B[0;36m_check_parameter_number\u001B[1;34m(parameter_name, parameter, n_views)\u001B[0m\n\u001B[0;32m     13\u001B[0m \u001B[1;32mdef\u001B[0m \u001B[0m_check_parameter_number\u001B[0m\u001B[1;33m(\u001B[0m\u001B[0mparameter_name\u001B[0m\u001B[1;33m:\u001B[0m \u001B[0mstr\u001B[0m\u001B[1;33m,\u001B[0m \u001B[0mparameter\u001B[0m\u001B[1;33m,\u001B[0m \u001B[0mn_views\u001B[0m\u001B[1;33m:\u001B[0m \u001B[0mint\u001B[0m\u001B[1;33m)\u001B[0m\u001B[1;33m:\u001B[0m\u001B[1;33m\u001B[0m\u001B[1;33m\u001B[0m\u001B[0m\n\u001B[0;32m     14\u001B[0m     \u001B[1;32mif\u001B[0m \u001B[0mlen\u001B[0m\u001B[1;33m(\u001B[0m\u001B[0mparameter\u001B[0m\u001B[1;33m)\u001B[0m \u001B[1;33m!=\u001B[0m \u001B[0mn_views\u001B[0m\u001B[1;33m:\u001B[0m\u001B[1;33m\u001B[0m\u001B[1;33m\u001B[0m\u001B[0m\n\u001B[1;32m---> 15\u001B[1;33m         raise ValueError(f\"number of views passed should match number of parameter {parameter_name}\"\n\u001B[0m\u001B[0;32m     16\u001B[0m                          \u001B[1;34mf\"len(views)={n_views} and \"\u001B[0m\u001B[1;33m\u001B[0m\u001B[1;33m\u001B[0m\u001B[0m\n\u001B[0;32m     17\u001B[0m                          f\"len({parameter_name})={len(parameter)}\")\n",
      "\u001B[1;31mValueError\u001B[0m: number of views passed should match number of parameter clen(views)=1 and len(c)=2"
     ]
    }
   ]
  },
  {
   "cell_type": "markdown",
   "metadata": {
    "id": "mSxiNxhXBaSU"
   },
   "source": [
    "## CCA using the deconfounded data\n",
    "Now we use confounds to remove the variance associated with the scanner type from **both** views. To do this we can use two instances of Residualize() - one for each view (X and Y). This time, the CCA model finds a similarly strong relationship between the two views but this association is not driven by the 'scanner type' confounding variable."
   ]
  },
  {
   "cell_type": "code",
   "metadata": {
    "colab": {
     "base_uri": "https://localhost:8080/",
     "height": 375
    },
    "id": "qL5G6ljQB0eu",
    "outputId": "73600910-16cd-41bb-c9c4-345f25dc15ac"
   },
   "source": [
    "# We can use Residualize() to regress out the effect of the confounding variable\n",
    "resid_x = Residualize()\n",
    "resid_y = Residualize()\n",
    "resid_x.fit(X, confound)\n",
    "resid_y.fit(Y, confound)\n",
    "deconf_X = resid_x.transform(X, confound)\n",
    "deconf_Y = resid_y.transform(Y, confound)\n",
    "\n",
    "# Fit a CCA to the deconfounded data\n",
    "deconf_cca = CCA().fit((deconf_X, deconf_Y))\n",
    "deconf_transformed_x, deconf_transform_y = deconf_cca.transform((deconf_X,deconf_Y))\n",
    "\n",
    "deconf_data = pd.DataFrame(\n",
    "    {'Scanner Type': np.squeeze(confound).astype(str),\n",
    "     'view 1 projection': np.squeeze(deconf_transformed_x),\n",
    "     'view 2 projection': np.squeeze(deconf_transformed_y)})\n",
    "\n",
    "cca_pp_deconf = sns.pairplot(deconf_data, hue='Scanner Type')\n",
    "cca_pp_deconf.fig.suptitle('Deconfounded CCA')\n",
    "plt.show()"
   ],
   "execution_count": null,
   "outputs": []
  }
 ]
}